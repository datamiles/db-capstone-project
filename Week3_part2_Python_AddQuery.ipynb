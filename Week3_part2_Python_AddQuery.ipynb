{
 "cells": [
  {
   "cell_type": "markdown",
   "id": "28940ad4",
   "metadata": {},
   "source": [
    "# Task 1"
   ]
  },
  {
   "cell_type": "code",
   "execution_count": 11,
   "id": "b59a1311",
   "metadata": {},
   "outputs": [],
   "source": [
    "# Import MySQL Connector/Python \n",
    "import mysql.connector as connector\n",
    "\n",
    "connection=connector.connect(user=\"root\",password=\"Mysql2023!\")"
   ]
  },
  {
   "cell_type": "code",
   "execution_count": 12,
   "id": "a38c1f9d",
   "metadata": {},
   "outputs": [],
   "source": [
    "cursor = connection.cursor()"
   ]
  },
  {
   "cell_type": "code",
   "execution_count": 15,
   "id": "3b1adbcb",
   "metadata": {},
   "outputs": [
    {
     "name": "stdout",
     "output_type": "stream",
     "text": [
      "LittleLemonDB\n"
     ]
    }
   ],
   "source": [
    "use_database_query=\"\"\"use LittleLemonDB\"\"\"\n",
    "cursor.execute(use_database_query)\n",
    "print(connection.database)"
   ]
  },
  {
   "cell_type": "markdown",
   "id": "ba5eed12",
   "metadata": {},
   "source": [
    "# Task 2"
   ]
  },
  {
   "cell_type": "code",
   "execution_count": 16,
   "id": "462a4283",
   "metadata": {},
   "outputs": [
    {
     "name": "stdout",
     "output_type": "stream",
     "text": [
      "[('Booking',), ('Customer',), ('Menu',), ('MenuItems',), ('Order_Delivery_Status',), ('Orders',), ('OrdersView',), ('Staff',)]\n"
     ]
    }
   ],
   "source": [
    "show_tables_query = \"\"\"SHOW TABLES\"\"\"\n",
    "cursor.execute(show_tables_query)\n",
    "result = cursor.fetchall()\n",
    "print(result)"
   ]
  },
  {
   "cell_type": "markdown",
   "id": "2fdd62f9",
   "metadata": {},
   "source": [
    "# Task 3 - Query w Table Join"
   ]
  },
  {
   "cell_type": "code",
   "execution_count": 20,
   "id": "df878b1a",
   "metadata": {},
   "outputs": [
    {
     "name": "stdout",
     "output_type": "stream",
     "text": [
      "[('Snasir', Decimal('200')), ('Shani', Decimal('155'))]\n"
     ]
    }
   ],
   "source": [
    "join_query=\"\"\"select a.CustomerName, b.Total_Cost\n",
    "from \n",
    "LittleLemonDB.Customer a\n",
    "inner join LittleLemonDB.Orders b\n",
    "on a.CustomerID = b.CustomerID\n",
    "where b.total_cost > 60;\"\"\"\n",
    "\n",
    "cursor.execute(join_query)\n",
    "result = cursor.fetchall()\n",
    "print(result)"
   ]
  },
  {
   "cell_type": "code",
   "execution_count": null,
   "id": "4959e5eb",
   "metadata": {},
   "outputs": [],
   "source": []
  }
 ],
 "metadata": {
  "kernelspec": {
   "display_name": "Python 3 (ipykernel)",
   "language": "python",
   "name": "python3"
  },
  "language_info": {
   "codemirror_mode": {
    "name": "ipython",
    "version": 3
   },
   "file_extension": ".py",
   "mimetype": "text/x-python",
   "name": "python",
   "nbconvert_exporter": "python",
   "pygments_lexer": "ipython3",
   "version": "3.10.6"
  }
 },
 "nbformat": 4,
 "nbformat_minor": 5
}
